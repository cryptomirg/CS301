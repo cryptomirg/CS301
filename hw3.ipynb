{
 "cells": [
  {
   "cell_type": "code",
   "execution_count": null,
   "metadata": {},
   "outputs": [],
   "source": [
    "## Author: Milad Mirghahari\n",
    "## Date: 20200217\n",
    "## CS301-006, Professor Watson\n",
    "## HW#3 Solution\n",
    "## This is a description of the repository / code included\n",
    "## link to the git repo: https://github.com/cryptomirg/CS301.git\n",
    "## link-to-the-relevant-git-commit: https://github.com/cryptomirg/CS301/commit/33d71fa17c8a2c3d8eadd163b6e37466b1ee9062 \n",
    "## git-commit-date-and-name: 20200207 - Updated HW2, commit name: 33d71fa)\n",
    "## name-of-the-branch: master"
   ]
  },
  {
   "cell_type": "code",
   "execution_count": null,
   "metadata": {},
   "outputs": [],
   "source": [
    "##Problem 1"
   ]
  },
  {
   "cell_type": "code",
   "execution_count": 9,
   "metadata": {},
   "outputs": [],
   "source": [
    "import pandas as pd\n",
    "import numpy as np"
   ]
  },
  {
   "cell_type": "code",
   "execution_count": 10,
   "metadata": {},
   "outputs": [],
   "source": [
    "def data_reader(data_path):\n",
    "    try:\n",
    "        data = pd.read_csv(data_path)\n",
    "        print(\"The shape is: \" + str(data.shape))\n",
    "        return pd.DataFrame(data)\n",
    "    except:\n",
    "        print(\"Error during reading, please try again.\")\n",
    "        return None\n",
    "    "
   ]
  },
  {
   "cell_type": "code",
   "execution_count": 11,
   "metadata": {},
   "outputs": [
    {
     "name": "stdout",
     "output_type": "stream",
     "text": [
      "The shape is: (193, 6)\n"
     ]
    }
   ],
   "source": [
    "my = data_reader(\"drinks.csv\")"
   ]
  },
  {
   "cell_type": "code",
   "execution_count": 12,
   "metadata": {},
   "outputs": [
    {
     "name": "stdout",
     "output_type": "stream",
     "text": [
      "Error during reading, please try again.\n"
     ]
    }
   ],
   "source": [
    "test = data_reader(\"errorfile.csv\")"
   ]
  },
  {
   "cell_type": "code",
   "execution_count": 13,
   "metadata": {},
   "outputs": [],
   "source": [
    "##Problem 2"
   ]
  },
  {
   "cell_type": "code",
   "execution_count": 14,
   "metadata": {},
   "outputs": [],
   "source": [
    "def get_num_outliers(df, col):\n",
    "    numpy_array = np.sort(df[col].to_numpy())\n",
    "    Q1 = np.quantile(numpy_array, .25)\n",
    "    Q3 = np.quantile(numpy_array, .75)\n",
    "    IQR = Q3 - Q1\n",
    "    \n",
    "    ceiling = Q3 + IQR*1.5\n",
    "    floor = Q1 - IQR*1.5\n",
    "    \n",
    "    count = 0\n",
    "    i = 0;\n",
    "    while numpy_array[i] < floor:\n",
    "        count+=1\n",
    "        i += 1\n",
    "    i = len(numpy_array) - 1\n",
    "    while numpy_array[i] > ceiling:\n",
    "        count+=1\n",
    "        i -= 1\n",
    "    return count"
   ]
  },
  {
   "cell_type": "code",
   "execution_count": 17,
   "metadata": {},
   "outputs": [
    {
     "data": {
      "text/plain": [
       "26"
      ]
     },
     "execution_count": 17,
     "metadata": {},
     "output_type": "execute_result"
    }
   ],
   "source": [
    "get_num_outliers(my,'wine_servings')"
   ]
  },
  {
   "cell_type": "code",
   "execution_count": null,
   "metadata": {},
   "outputs": [],
   "source": [
    "##Problem 3"
   ]
  },
  {
   "cell_type": "code",
   "execution_count": 19,
   "metadata": {},
   "outputs": [],
   "source": [
    "def get_num_deviants(df, col, multiplier):\n",
    "    numpy_array = np.sort(df[col].to_numpy())\n",
    "    std = numpy_array.std()\n",
    "    mean = numpy_array.mean()\n",
    "    \n",
    "    ceiling = mean + std * multiplier \n",
    "    floor = mean - std * multiplier\n",
    "    \n",
    "    count = 0\n",
    "    i = 0\n",
    "    while float(numpy_array[i]) < floor:\n",
    "        count+=1\n",
    "        i += 1\n",
    "    i = len(numpy_array) - 1\n",
    "    while numpy_array[i] > ceiling:\n",
    "        count+=1\n",
    "        i -= 1\n",
    "    return count"
   ]
  },
  {
   "cell_type": "code",
   "execution_count": 20,
   "metadata": {},
   "outputs": [
    {
     "data": {
      "text/plain": [
       "29"
      ]
     },
     "execution_count": 20,
     "metadata": {},
     "output_type": "execute_result"
    }
   ],
   "source": [
    "get_num_deviants(my, 'wine_servings', 1)"
   ]
  },
  {
   "cell_type": "code",
   "execution_count": 21,
   "metadata": {},
   "outputs": [
    {
     "data": {
      "text/plain": [
       "15"
      ]
     },
     "execution_count": 21,
     "metadata": {},
     "output_type": "execute_result"
    }
   ],
   "source": [
    "get_num_deviants(my, 'wine_servings', 2)"
   ]
  }
 ],
 "metadata": {
  "kernelspec": {
   "display_name": "Python 2",
   "language": "python",
   "name": "python2"
  },
  "language_info": {
   "codemirror_mode": {
    "name": "ipython",
    "version": 2
   },
   "file_extension": ".py",
   "mimetype": "text/x-python",
   "name": "python",
   "nbconvert_exporter": "python",
   "pygments_lexer": "ipython2",
   "version": "2.7.16"
  }
 },
 "nbformat": 4,
 "nbformat_minor": 2
}
