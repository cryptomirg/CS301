{
 "cells": [
  {
   "cell_type": "code",
   "execution_count": 107,
   "metadata": {},
   "outputs": [],
   "source": [
    "## Author: Milad Mirghahari\n",
    "## Date: 20200224\n",
    "## CS301-006, Professor Watson\n",
    "## HW#4 Solution\n",
    "## This is a description of the repository / code included\n",
    "## link to the git repo: https://github.com/cryptomirg/CS301.git\n",
    "## link-to-the-relevant-git-commit: https://github.com/cryptomirg/CS301/commit/71750d62d907dad3291b658361877082cdde9371 \n",
    "## git-commit-date-and-name: 20200217 - commit name: 71750d6\n",
    "## name-of-the-branch: master"
   ]
  },
  {
   "cell_type": "code",
   "execution_count": 108,
   "metadata": {},
   "outputs": [],
   "source": [
    "import pandas as pd\n",
    "import numpy as np"
   ]
  },
  {
   "cell_type": "markdown",
   "metadata": {},
   "source": [
    "Problem #1"
   ]
  },
  {
   "cell_type": "code",
   "execution_count": 109,
   "metadata": {},
   "outputs": [],
   "source": [
    "my_df = pd.read_csv('2019_nCoV_20200121_20200206.csv')"
   ]
  },
  {
   "cell_type": "code",
   "execution_count": 110,
   "metadata": {},
   "outputs": [],
   "source": [
    "def get_percent_nans(df, column_name):\n",
    "    nans = [n for n in df[column_name].values if pd.isnull(n)]\n",
    "    percent = (len(nans)/len(df[column_name].values)) * 100\n",
    "    return percent"
   ]
  },
  {
   "cell_type": "code",
   "execution_count": 111,
   "metadata": {},
   "outputs": [
    {
     "name": "stdout",
     "output_type": "stream",
     "text": [
      "The \"Province/State\" column has 0.00% empty values\n",
      "The \"Country/Region\" column has 0.00% empty values\n",
      "The \"Last Update\" column has 0.00% empty values\n",
      "The \"Confirmed\" column has 0.00% empty values\n",
      "The \"Suspected\" column has 0.00% empty values\n",
      "The \"Recovered\" column has 0.00% empty values\n",
      "The \"Death\" column has 0.00% empty values\n"
     ]
    }
   ],
   "source": [
    "for col in my_df.columns:\n",
    "    print('The \\\"{}\\\" column has {:.2f}% empty values'.format(col, get_percent_nans(my_df, col)))\n",
    "    \n",
    "#I do not understand how I am getting 0% values"
   ]
  },
  {
   "cell_type": "markdown",
   "metadata": {},
   "source": [
    "Problem #2"
   ]
  },
  {
   "cell_type": "code",
   "execution_count": 112,
   "metadata": {},
   "outputs": [
    {
     "name": "stdout",
     "output_type": "stream",
     "text": [
      "The country/region with the most deaths is Mainland China\n"
     ]
    }
   ],
   "source": [
    "maxDeaths = 0\n",
    "for val in my_df['Country/Region'].unique():\n",
    "    num = (my_df.loc[(my_df['Country/Region'] == val)])['Death'].count()\n",
    "    if num > maxDeaths:\n",
    "        countryMax = val\n",
    "        maxDeaths = num\n",
    "        \n",
    "print('The country/region with the most deaths is {}'.format(countryMax))"
   ]
  },
  {
   "cell_type": "markdown",
   "metadata": {},
   "source": [
    "Problem #3"
   ]
  },
  {
   "cell_type": "code",
   "execution_count": 113,
   "metadata": {},
   "outputs": [
    {
     "name": "stdout",
     "output_type": "stream",
     "text": [
      "The Country/Region with the highest number of suspected cases is Hong Kong\n"
     ]
    }
   ],
   "source": [
    "countryGroups = my_df.groupby('Country/Region', as_index=False)[[\"Suspected\"]].sum()\n",
    "idx = countryGroups[\"Suspected\"].idxmax()\n",
    "country = countryGroups[\"Country/Region\"].iloc[idx]\n",
    "print ('The Country/Region with the highest number of suspected cases is {}'.format(country))"
   ]
  },
  {
   "cell_type": "markdown",
   "metadata": {},
   "source": [
    "Problem #4"
   ]
  },
  {
   "cell_type": "code",
   "execution_count": 114,
   "metadata": {},
   "outputs": [
    {
     "name": "stdout",
     "output_type": "stream",
     "text": [
      "The country/region with the second most cases is United States\n"
     ]
    }
   ],
   "source": [
    "maxRecovered = 0\n",
    "for val in cv_df['Country/Region'].unique():\n",
    "    num = (cv_df.loc[(cv_df['Country/Region'] == val)])['Recovered'].count()\n",
    "    if num > max_recovered:\n",
    "        countryMax = val\n",
    "        maxRecovered = num\n",
    "        \n",
    "secondMax = 0\n",
    "for val in cv_df['Country/Region'].unique():\n",
    "    num = (cv_df.loc[(cv_df['Country/Region'] == val)])['Recovered'].count()\n",
    "    if num > secondMax and num < maxRecovered:\n",
    "        country_w_second_max = val\n",
    "        second_max_recovered = num\n",
    "        \n",
    "print('The country/region with the second most cases is {}'.format(country_w_second_max))"
   ]
  },
  {
   "cell_type": "raw",
   "metadata": {},
   "source": [
    "Problem #5"
   ]
  },
  {
   "cell_type": "code",
   "execution_count": 115,
   "metadata": {},
   "outputs": [],
   "source": [
    "def get_continent(country):\n",
    "    continents = {\n",
    "        'Australia': 'Australia',\n",
    "        'Belgium': 'Europe',\n",
    "        'Brazil': 'South America',\n",
    "        'Cambodia': 'Asia',\n",
    "        'Canada': 'North America',\n",
    "        'Colombia': 'South America',\n",
    "        'Finland': 'Europe',\n",
    "        'France': 'Europe',\n",
    "        'Germany': 'Europe',\n",
    "        'Hong Kong': 'Asia',\n",
    "        'India': 'Asia',\n",
    "        'Italy': 'Europe',\n",
    "        'Ivory Coast': 'Africa',\n",
    "        'Japan': 'Asia',\n",
    "        'Macau': 'Asia',\n",
    "        'Mainland China': 'Asia',\n",
    "        'Malaysia': 'Asia',\n",
    "        'Mexico': 'North America',\n",
    "        'Nepal': 'Asia',\n",
    "        'Philippines': 'Asia',\n",
    "        'Russia': 'Eurasia',\n",
    "        'Singapore': 'Asia',\n",
    "        'South Korea': 'Asia',\n",
    "        'Spain': 'Europe',\n",
    "        'Sri Lanka': 'Asia',\n",
    "        'Sweden': 'Europe',\n",
    "        'Taiwan': 'Asia',\n",
    "        'Thailand': 'Asia',\n",
    "        'UK': 'Europe',\n",
    "        'United Arab Emirates': 'Asia',\n",
    "        'United States': 'North America',\n",
    "        'Vietnam': 'Asia'\n",
    "    }\n",
    "    return continents[country]"
   ]
  },
  {
   "cell_type": "markdown",
   "metadata": {},
   "source": [
    "Problem #6"
   ]
  },
  {
   "cell_type": "code",
   "execution_count": 116,
   "metadata": {},
   "outputs": [
    {
     "data": {
      "text/plain": [
       "'Europe'"
      ]
     },
     "execution_count": 116,
     "metadata": {},
     "output_type": "execute_result"
    }
   ],
   "source": [
    "get_continent('UK')"
   ]
  },
  {
   "cell_type": "markdown",
   "metadata": {},
   "source": [
    "Problem #7"
   ]
  },
  {
   "cell_type": "code",
   "execution_count": 117,
   "metadata": {},
   "outputs": [],
   "source": [
    "for area in df['Country/Region']:\n",
    "    cont = get_continent(area)\n",
    "    df.loc[(df['Country/Region'] == area), 'Continent'] = cont"
   ]
  },
  {
   "cell_type": "code",
   "execution_count": 118,
   "metadata": {},
   "outputs": [
    {
     "data": {
      "text/html": [
       "<div>\n",
       "<style scoped>\n",
       "    .dataframe tbody tr th:only-of-type {\n",
       "        vertical-align: middle;\n",
       "    }\n",
       "\n",
       "    .dataframe tbody tr th {\n",
       "        vertical-align: top;\n",
       "    }\n",
       "\n",
       "    .dataframe thead th {\n",
       "        text-align: right;\n",
       "    }\n",
       "</style>\n",
       "<table border=\"1\" class=\"dataframe\">\n",
       "  <thead>\n",
       "    <tr style=\"text-align: right;\">\n",
       "      <th></th>\n",
       "      <th>Province/State</th>\n",
       "      <th>Country/Region</th>\n",
       "      <th>Last Update</th>\n",
       "      <th>Confirmed</th>\n",
       "      <th>Suspected</th>\n",
       "      <th>Recovered</th>\n",
       "      <th>Death</th>\n",
       "      <th>Continent</th>\n",
       "    </tr>\n",
       "  </thead>\n",
       "  <tbody>\n",
       "    <tr>\n",
       "      <th>0</th>\n",
       "      <td>Hubei</td>\n",
       "      <td>Mainland China</td>\n",
       "      <td>2/5/20 16:43</td>\n",
       "      <td>16678.0</td>\n",
       "      <td>NaN</td>\n",
       "      <td>538.0</td>\n",
       "      <td>479.0</td>\n",
       "      <td>Asia</td>\n",
       "    </tr>\n",
       "    <tr>\n",
       "      <th>1</th>\n",
       "      <td>Guangdong</td>\n",
       "      <td>Mainland China</td>\n",
       "      <td>2/5/20 13:23</td>\n",
       "      <td>895.0</td>\n",
       "      <td>NaN</td>\n",
       "      <td>49.0</td>\n",
       "      <td>0.0</td>\n",
       "      <td>Asia</td>\n",
       "    </tr>\n",
       "    <tr>\n",
       "      <th>2</th>\n",
       "      <td>Zhejiang</td>\n",
       "      <td>Mainland China</td>\n",
       "      <td>2/5/20 15:13</td>\n",
       "      <td>895.0</td>\n",
       "      <td>NaN</td>\n",
       "      <td>78.0</td>\n",
       "      <td>0.0</td>\n",
       "      <td>Asia</td>\n",
       "    </tr>\n",
       "    <tr>\n",
       "      <th>3</th>\n",
       "      <td>Henan</td>\n",
       "      <td>Mainland China</td>\n",
       "      <td>2/5/20 15:03</td>\n",
       "      <td>764.0</td>\n",
       "      <td>NaN</td>\n",
       "      <td>47.0</td>\n",
       "      <td>2.0</td>\n",
       "      <td>Asia</td>\n",
       "    </tr>\n",
       "    <tr>\n",
       "      <th>4</th>\n",
       "      <td>Hunan</td>\n",
       "      <td>Mainland China</td>\n",
       "      <td>2/5/20 15:23</td>\n",
       "      <td>661.0</td>\n",
       "      <td>NaN</td>\n",
       "      <td>54.0</td>\n",
       "      <td>0.0</td>\n",
       "      <td>Asia</td>\n",
       "    </tr>\n",
       "  </tbody>\n",
       "</table>\n",
       "</div>"
      ],
      "text/plain": [
       "  Province/State  Country/Region   Last Update  Confirmed  Suspected  \\\n",
       "0          Hubei  Mainland China  2/5/20 16:43    16678.0        NaN   \n",
       "1      Guangdong  Mainland China  2/5/20 13:23      895.0        NaN   \n",
       "2       Zhejiang  Mainland China  2/5/20 15:13      895.0        NaN   \n",
       "3          Henan  Mainland China  2/5/20 15:03      764.0        NaN   \n",
       "4          Hunan  Mainland China  2/5/20 15:23      661.0        NaN   \n",
       "\n",
       "   Recovered  Death Continent  \n",
       "0      538.0  479.0      Asia  \n",
       "1       49.0    0.0      Asia  \n",
       "2       78.0    0.0      Asia  \n",
       "3       47.0    2.0      Asia  \n",
       "4       54.0    0.0      Asia  "
      ]
     },
     "execution_count": 118,
     "metadata": {},
     "output_type": "execute_result"
    }
   ],
   "source": [
    "df.head()"
   ]
  },
  {
   "cell_type": "markdown",
   "metadata": {},
   "source": [
    "Problem #8"
   ]
  },
  {
   "cell_type": "code",
   "execution_count": 119,
   "metadata": {},
   "outputs": [
    {
     "data": {
      "text/plain": [
       "Continent\n",
       "Africa                1.0\n",
       "Asia             304958.0\n",
       "Australia           238.0\n",
       "Eurasia              26.0\n",
       "Europe              395.0\n",
       "North America       273.0\n",
       "Name: Confirmed, dtype: float64"
      ]
     },
     "execution_count": 119,
     "metadata": {},
     "output_type": "execute_result"
    }
   ],
   "source": [
    "new_df = df[['Continent', 'Confirmed']].dropna()\n",
    "sorted_df = new_df.groupby('Continent')\n",
    "sorted_df.groups\n",
    "cont_df = sorted_df['Confirmed'].agg(np.sum)\n",
    "cont_df"
   ]
  }
 ],
 "metadata": {
  "kernelspec": {
   "display_name": "Python 2",
   "language": "python",
   "name": "python2"
  },
  "language_info": {
   "codemirror_mode": {
    "name": "ipython",
    "version": 2
   },
   "file_extension": ".py",
   "mimetype": "text/x-python",
   "name": "python",
   "nbconvert_exporter": "python",
   "pygments_lexer": "ipython2",
   "version": "2.7.16"
  }
 },
 "nbformat": 4,
 "nbformat_minor": 2
}
