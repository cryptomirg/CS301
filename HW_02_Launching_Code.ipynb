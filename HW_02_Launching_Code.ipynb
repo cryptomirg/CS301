{
 "cells": [
  {
   "cell_type": "code",
   "execution_count": null,
   "metadata": {},
   "outputs": [],
   "source": [
    "## Author: Milad Mirghahari\n",
    "## Date: 2020/02/06\n",
    "## CS301-006, Professor Watson\n",
    "## HW#2 Solution\n",
    "## This is a description of the repository / code included\n",
    "## link to the git repo (ex: https://github.com/cww5/data_discovery_project)\n",
    "## link-to-the-relevant-git-commit (ex: https://github.com/cww5/data_discovery_project/tree/f9cdbb9e33707fbd840334d88ff3063fcad7d8b2)\n",
    "## git-commit-date-and-name (ex: 20200202 - Updated TODO, commit name: f9cdbb9)\n",
    "## name-of-the-branch (ex: master)"
   ]
  },
  {
   "cell_type": "markdown",
   "metadata": {},
   "source": [
    "## HW 02 - Base Code to Start"
   ]
  },
  {
   "cell_type": "code",
   "execution_count": null,
   "metadata": {},
   "outputs": [],
   "source": [
    "#This is an example of a cell for Python code\n",
    "print('Press shift+enter to run this code, you will see the output right below the cell')"
   ]
  },
  {
   "cell_type": "markdown",
   "metadata": {},
   "source": [
    "### The following cells contain markdown. This cell already ran (shift+enter)"
   ]
  },
  {
   "cell_type": "markdown",
   "metadata": {},
   "source": [
    "This cell has basic markdown text (to run, press shift+enter)"
   ]
  },
  {
   "cell_type": "markdown",
   "metadata": {},
   "source": [
    "### This is a markdown Level 3 header (to run, press shift+enter)"
   ]
  },
  {
   "cell_type": "markdown",
   "metadata": {},
   "source": [
    "#### Use these two samples to test your functions"
   ]
  },
  {
   "cell_type": "code",
   "execution_count": 4,
   "metadata": {},
   "outputs": [],
   "source": [
    "grades = [0, 0, 14, 35, 63, 66, 75, 77, 78, 80, 81, 81, 87, 89, 90, 91, 100]"
   ]
  },
  {
   "cell_type": "code",
   "execution_count": 5,
   "metadata": {},
   "outputs": [],
   "source": [
    "times = [5, 10, 10, 15, 15, 15, 15, 20, 20, 20, 25, 30, 30, 40, 40, 45, 60, 60, 65, 89]"
   ]
  },
  {
   "cell_type": "markdown",
   "metadata": {},
   "source": [
    "### Please answer Problem 2 below:"
   ]
  },
  {
   "cell_type": "code",
   "execution_count": 33,
   "metadata": {},
   "outputs": [],
   "source": [
    "import numpy as np\n",
    "\n",
    "def q_summary_V1(data):\n",
    "\n",
    "    # Find the minimum\n",
    "    minimum = min(data)\n",
    "\n",
    "    # Calculate the Q1, Median and Q3\n",
    "    quartiles = np.percentile(data, [25, 50, 75])\n",
    "\n",
    "    # Find the maximum\n",
    "    maximum = max(data)\n",
    "    \n",
    "    iqr = quartiles[2] - quartiles[0]\n",
    "    outlierMin = quartiles[0] - (iqr*1.5)\n",
    "    outlierMax = quartiles[2] + (iqr*1.5)\n",
    "    \n",
    "    outliers = []\n",
    "    \n",
    "    for i in data: \n",
    "        if(i<outlierMin):\n",
    "            outliers.append(i)\n",
    "        elif(i>outlierMax):\n",
    "            outliers.append(i)            \n",
    "\n",
    "    print('The following are outliers:', outliers)\n",
    "\n",
    "    # (Minimum, Q1, Median, Q2, Maximum)\n",
    "    Dict = {'min': minimum, 'q1': quartiles[0], 'q2': quartiles[1], 'q3': quartiles[2], 'max': maximum}\n",
    "    return Dict"
   ]
  },
  {
   "cell_type": "code",
   "execution_count": 34,
   "metadata": {},
   "outputs": [
    {
     "name": "stdout",
     "output_type": "stream",
     "text": [
      "('The following are outliers:', [0, 0, 14])\n",
      "{'q1': 63.0, 'max': 100, 'q3': 87.0, 'q2': 78.0, 'min': 0}\n"
     ]
    }
   ],
   "source": [
    "print(q_summary_V1(grades))"
   ]
  },
  {
   "cell_type": "code",
   "execution_count": 29,
   "metadata": {},
   "outputs": [
    {
     "name": "stdout",
     "output_type": "stream",
     "text": [
      "('The following are outliers:', [89])\n",
      "{'q1': 15.0, 'max': 89, 'q3': 41.25, 'q2': 22.5, 'min': 5}\n"
     ]
    }
   ],
   "source": [
    "print(q_summary_V1(times))"
   ]
  },
  {
   "cell_type": "markdown",
   "metadata": {},
   "source": [
    "### Please answer Problem 3 below:"
   ]
  },
  {
   "cell_type": "code",
   "execution_count": 66,
   "metadata": {},
   "outputs": [],
   "source": [
    "def get_quantile_indexes(n, p):\n",
    "    '''\n",
    "    Calculate index values as input for interpolation\n",
    "    \n",
    "    input\n",
    "    _____\n",
    "    n (list) - the list of numbers\n",
    "    p (float) - the percentage corresponding to the quantile (ex:0.25)\n",
    "    \n",
    "    output\n",
    "    ______\n",
    "    l, i, u (float) - the corresponding x1, x, x1 values as calculated via class\n",
    "    '''\n",
    "    i = p*(n+1) - 1\n",
    "    l = np.floor(i)\n",
    "    u = np.ceil(i)\n",
    "    return l,i,u\n",
    "\n",
    "\n",
    "def get_quantile(nums, q):\n",
    "    '''\n",
    "    Use the in-class method of interpolation to calculate the quantile\n",
    "    \n",
    "    input\n",
    "    _____\n",
    "    nums (list) - the list of numbers\n",
    "    q (float) - the quantile desired\n",
    "    \n",
    "    output\n",
    "    ______\n",
    "    y (int/float) - this is the value in nums at the given quantile q\n",
    "    '''\n",
    "    x1, x, x2 = get_quantile_indexes(len(nums), q)\n",
    "    if np.floor(x) == x1 and np.ceil(x) == x1:\n",
    "        x = int(x)\n",
    "        y = nums[x]\n",
    "        # print('x = {}, y = {}'.format(x, y))\n",
    "        return y\n",
    "        \n",
    "    # print('x1, x, x2 = {}, {}, {}'.format(x1, x, x2))\n",
    "    y1, y2 = nums[int(x1)], nums[int(x2)]\n",
    "    # print('y1, y2 = {}, {}'.format(y1, y2))\n",
    "    y = (x - x1) * (y1-y2) / (x1 - x2) + y1\n",
    "    # print('y =', y)\n",
    "    return y\n",
    "\n",
    "def q_summary_V2(data):\n",
    "    q1 = get_quantile(data, .25)  \n",
    "    q2 = get_quantile(data, .5)\n",
    "    q3 = get_quantile(data, .75)\n",
    "    maxVar = get_quantile(data, 0)  \n",
    "    \n",
    "    lowest = 999999999999999999999\n",
    "    for i in data:\n",
    "        if lowest>i:\n",
    "            lowest = i\n",
    "    \n",
    "    minVar = lowest\n",
    "    \n",
    "    iqr = q3 - q1\n",
    "    outlierMin = q1 - (iqr*1.5)\n",
    "    outlierMax = q3 + (iqr*1.5)\n",
    "    \n",
    "    outliers = []\n",
    "    \n",
    "    for i in data: \n",
    "        if(i<outlierMin):\n",
    "            outliers.append(i)\n",
    "        elif(i>outlierMax):\n",
    "            outliers.append(i)            \n",
    "\n",
    "    print('The following are outliers:', outliers)\n",
    "\n",
    "    # (Minimum, Q1, Median, Q2, Maximum)\n",
    "    Dict = {'min': minVar, 'q1': q1, 'q2': q2, 'q3': q3, 'max': maxVar}\n",
    "    return Dict"
   ]
  },
  {
   "cell_type": "code",
   "execution_count": null,
   "metadata": {},
   "outputs": [],
   "source": [
    "grades = [0, 0, 14, 35, 63, 66, 75, 77, 78, 80, 81, 81, 87, 89, 90, 91, 100]"
   ]
  },
  {
   "cell_type": "code",
   "execution_count": null,
   "metadata": {},
   "outputs": [],
   "source": [
    "times = [5, 10, 10, 15, 15, 15, 15, 20, 20, 20, 25, 30, 30, 40, 40, 45, 60, 60, 65, 89]"
   ]
  },
  {
   "cell_type": "code",
   "execution_count": 67,
   "metadata": {},
   "outputs": [
    {
     "name": "stdout",
     "output_type": "stream",
     "text": [
      "('The following are outliers:', [])\n"
     ]
    },
    {
     "data": {
      "text/plain": [
       "{'max': 100, 'min': 0, 'q1': 49.0, 'q2': 78, 'q3': 88.0}"
      ]
     },
     "execution_count": 67,
     "metadata": {},
     "output_type": "execute_result"
    }
   ],
   "source": [
    "q_summary_V2(grades)"
   ]
  },
  {
   "cell_type": "code",
   "execution_count": 68,
   "metadata": {},
   "outputs": [
    {
     "name": "stdout",
     "output_type": "stream",
     "text": [
      "('The following are outliers:', [89])\n"
     ]
    },
    {
     "data": {
      "text/plain": [
       "{'max': 89, 'min': 5, 'q1': 15.0, 'q2': 22.5, 'q3': 43.75}"
      ]
     },
     "execution_count": 68,
     "metadata": {},
     "output_type": "execute_result"
    }
   ],
   "source": [
    "q_summary_V2(times)"
   ]
  },
  {
   "cell_type": "code",
   "execution_count": null,
   "metadata": {},
   "outputs": [],
   "source": []
  }
 ],
 "metadata": {
  "kernelspec": {
   "display_name": "Python 2",
   "language": "python",
   "name": "python2"
  },
  "language_info": {
   "codemirror_mode": {
    "name": "ipython",
    "version": 2
   },
   "file_extension": ".py",
   "mimetype": "text/x-python",
   "name": "python",
   "nbconvert_exporter": "python",
   "pygments_lexer": "ipython2",
   "version": "2.7.16"
  }
 },
 "nbformat": 4,
 "nbformat_minor": 2
}
